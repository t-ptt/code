{
 "cells": [
  {
   "cell_type": "code",
   "execution_count": 1,
   "metadata": {
    "ExecuteTime": {
     "end_time": "2021-07-18T03:28:50.050572Z",
     "start_time": "2021-07-18T03:28:32.295945Z"
    }
   },
   "outputs": [],
   "source": [
    "import numpy as np\n",
    "import os\n",
    "import matplotlib as mpl\n",
    "import matplotlib.pyplot as plt\n",
    "import pandas as pd\n",
    "from datetime import datetime, timedelta\n",
    "import calendar\n",
    "import datetime\n",
    "from datetime import *\n",
    "pd.options.display.max_rows = 20\n",
    "pd.options.display.max_columns = 999\n",
    "import pandas_profiling as pp\n",
    "import random\n",
    "#pip install pandas-profiling"
   ]
  },
  {
   "cell_type": "markdown",
   "metadata": {},
   "source": [
    "### I. Import data"
   ]
  },
  {
   "cell_type": "code",
   "execution_count": 2,
   "metadata": {},
   "outputs": [
    {
     "data": {
      "text/html": [
       "<div>\n",
       "<style scoped>\n",
       "    .dataframe tbody tr th:only-of-type {\n",
       "        vertical-align: middle;\n",
       "    }\n",
       "\n",
       "    .dataframe tbody tr th {\n",
       "        vertical-align: top;\n",
       "    }\n",
       "\n",
       "    .dataframe thead th {\n",
       "        text-align: right;\n",
       "    }\n",
       "</style>\n",
       "<table border=\"1\" class=\"dataframe\">\n",
       "  <thead>\n",
       "    <tr style=\"text-align: right;\">\n",
       "      <th></th>\n",
       "      <th>date</th>\n",
       "      <th>rating</th>\n",
       "      <th>id</th>\n",
       "      <th>content</th>\n",
       "    </tr>\n",
       "  </thead>\n",
       "  <tbody>\n",
       "    <tr>\n",
       "      <th>0</th>\n",
       "      <td>2021-08-27</td>\n",
       "      <td>1</td>\n",
       "      <td>1630035830790</td>\n",
       "      <td>Nhập đúng tên đăng nhập với mật khẩu mà cứ báo...</td>\n",
       "    </tr>\n",
       "    <tr>\n",
       "      <th>1</th>\n",
       "      <td>2021-08-03</td>\n",
       "      <td>1</td>\n",
       "      <td>1627980064551</td>\n",
       "      <td>Out ra liên tục rồi k thể vào lại được là sao</td>\n",
       "    </tr>\n",
       "    <tr>\n",
       "      <th>2</th>\n",
       "      <td>2021-08-10</td>\n",
       "      <td>1</td>\n",
       "      <td>1628608463328</td>\n",
       "      <td>App quá tệ nói dùng thử mà dùng thử vẫn không ...</td>\n",
       "    </tr>\n",
       "  </tbody>\n",
       "</table>\n",
       "</div>"
      ],
      "text/plain": [
       "        date  rating             id  \\\n",
       "0 2021-08-27       1  1630035830790   \n",
       "1 2021-08-03       1  1627980064551   \n",
       "2 2021-08-10       1  1628608463328   \n",
       "\n",
       "                                             content  \n",
       "0  Nhập đúng tên đăng nhập với mật khẩu mà cứ báo...  \n",
       "1      Out ra liên tục rồi k thể vào lại được là sao  \n",
       "2  App quá tệ nói dùng thử mà dùng thử vẫn không ...  "
      ]
     },
     "execution_count": 2,
     "metadata": {},
     "output_type": "execute_result"
    }
   ],
   "source": [
    "#Import data from Excecl\n",
    "df = pd.read_excel(r'C:\\Users\\Mycomputer\\Documents\\Python Scripts\\KV\\App Rating\\211102_AppRating_KV.xlsx')\n",
    "df.head(3)"
   ]
  },
  {
   "cell_type": "code",
   "execution_count": 3,
   "metadata": {},
   "outputs": [
    {
     "name": "stdout",
     "output_type": "stream",
     "text": [
      "<class 'pandas.core.frame.DataFrame'>\n",
      "RangeIndex: 2654 entries, 0 to 2653\n",
      "Data columns (total 4 columns):\n",
      " #   Column   Non-Null Count  Dtype         \n",
      "---  ------   --------------  -----         \n",
      " 0   date     2654 non-null   datetime64[ns]\n",
      " 1   rating   2654 non-null   int64         \n",
      " 2   id       2654 non-null   int64         \n",
      " 3   content  1428 non-null   object        \n",
      "dtypes: datetime64[ns](1), int64(2), object(1)\n",
      "memory usage: 83.1+ KB\n"
     ]
    }
   ],
   "source": [
    "df.info()"
   ]
  },
  {
   "cell_type": "code",
   "execution_count": 4,
   "metadata": {
    "ExecuteTime": {
     "end_time": "2021-07-18T03:29:22.560891Z",
     "start_time": "2021-07-18T03:29:22.514859Z"
    }
   },
   "outputs": [
    {
     "data": {
      "text/html": [
       "<div>\n",
       "<style scoped>\n",
       "    .dataframe tbody tr th:only-of-type {\n",
       "        vertical-align: middle;\n",
       "    }\n",
       "\n",
       "    .dataframe tbody tr th {\n",
       "        vertical-align: top;\n",
       "    }\n",
       "\n",
       "    .dataframe thead th {\n",
       "        text-align: right;\n",
       "    }\n",
       "</style>\n",
       "<table border=\"1\" class=\"dataframe\">\n",
       "  <thead>\n",
       "    <tr style=\"text-align: right;\">\n",
       "      <th></th>\n",
       "      <th>rating</th>\n",
       "      <th>id</th>\n",
       "    </tr>\n",
       "  </thead>\n",
       "  <tbody>\n",
       "    <tr>\n",
       "      <th>count</th>\n",
       "      <td>2654.000000</td>\n",
       "      <td>2.654000e+03</td>\n",
       "    </tr>\n",
       "    <tr>\n",
       "      <th>mean</th>\n",
       "      <td>3.803316</td>\n",
       "      <td>1.367464e+12</td>\n",
       "    </tr>\n",
       "    <tr>\n",
       "      <th>std</th>\n",
       "      <td>1.602783</td>\n",
       "      <td>5.327523e+11</td>\n",
       "    </tr>\n",
       "    <tr>\n",
       "      <th>min</th>\n",
       "      <td>1.000000</td>\n",
       "      <td>1.457445e+09</td>\n",
       "    </tr>\n",
       "    <tr>\n",
       "      <th>25%</th>\n",
       "      <td>3.000000</td>\n",
       "      <td>1.515286e+12</td>\n",
       "    </tr>\n",
       "    <tr>\n",
       "      <th>50%</th>\n",
       "      <td>5.000000</td>\n",
       "      <td>1.573111e+12</td>\n",
       "    </tr>\n",
       "    <tr>\n",
       "      <th>75%</th>\n",
       "      <td>5.000000</td>\n",
       "      <td>1.606285e+12</td>\n",
       "    </tr>\n",
       "    <tr>\n",
       "      <th>max</th>\n",
       "      <td>5.000000</td>\n",
       "      <td>1.635565e+12</td>\n",
       "    </tr>\n",
       "  </tbody>\n",
       "</table>\n",
       "</div>"
      ],
      "text/plain": [
       "            rating            id\n",
       "count  2654.000000  2.654000e+03\n",
       "mean      3.803316  1.367464e+12\n",
       "std       1.602783  5.327523e+11\n",
       "min       1.000000  1.457445e+09\n",
       "25%       3.000000  1.515286e+12\n",
       "50%       5.000000  1.573111e+12\n",
       "75%       5.000000  1.606285e+12\n",
       "max       5.000000  1.635565e+12"
      ]
     },
     "execution_count": 4,
     "metadata": {},
     "output_type": "execute_result"
    }
   ],
   "source": [
    "df.describe()"
   ]
  },
  {
   "cell_type": "code",
   "execution_count": 5,
   "metadata": {
    "ExecuteTime": {
     "end_time": "2021-07-18T03:29:28.288055Z",
     "start_time": "2021-07-18T03:29:28.270796Z"
    },
    "scrolled": true
   },
   "outputs": [
    {
     "data": {
      "text/plain": [
       "date          0\n",
       "rating        0\n",
       "id            0\n",
       "content    1226\n",
       "dtype: int64"
      ]
     },
     "execution_count": 5,
     "metadata": {},
     "output_type": "execute_result"
    }
   ],
   "source": [
    "#Checking for nulls\n",
    "df.isnull().sum()"
   ]
  },
  {
   "cell_type": "code",
   "execution_count": 6,
   "metadata": {
    "ExecuteTime": {
     "end_time": "2021-07-18T03:29:33.287531Z",
     "start_time": "2021-07-18T03:29:33.272785Z"
    }
   },
   "outputs": [
    {
     "data": {
      "text/html": [
       "<div>\n",
       "<style scoped>\n",
       "    .dataframe tbody tr th:only-of-type {\n",
       "        vertical-align: middle;\n",
       "    }\n",
       "\n",
       "    .dataframe tbody tr th {\n",
       "        vertical-align: top;\n",
       "    }\n",
       "\n",
       "    .dataframe thead th {\n",
       "        text-align: right;\n",
       "    }\n",
       "</style>\n",
       "<table border=\"1\" class=\"dataframe\">\n",
       "  <thead>\n",
       "    <tr style=\"text-align: right;\">\n",
       "      <th></th>\n",
       "      <th>date</th>\n",
       "      <th>rating</th>\n",
       "      <th>id</th>\n",
       "      <th>content</th>\n",
       "    </tr>\n",
       "  </thead>\n",
       "  <tbody>\n",
       "    <tr>\n",
       "      <th>0</th>\n",
       "      <td>2021-08-27</td>\n",
       "      <td>1</td>\n",
       "      <td>1630035830790</td>\n",
       "      <td>Nhập đúng tên đăng nhập với mật khẩu mà cứ báo...</td>\n",
       "    </tr>\n",
       "    <tr>\n",
       "      <th>1</th>\n",
       "      <td>2021-08-03</td>\n",
       "      <td>1</td>\n",
       "      <td>1627980064551</td>\n",
       "      <td>Out ra liên tục rồi k thể vào lại được là sao</td>\n",
       "    </tr>\n",
       "    <tr>\n",
       "      <th>2</th>\n",
       "      <td>2021-08-10</td>\n",
       "      <td>1</td>\n",
       "      <td>1628608463328</td>\n",
       "      <td>App quá tệ nói dùng thử mà dùng thử vẫn không ...</td>\n",
       "    </tr>\n",
       "    <tr>\n",
       "      <th>3</th>\n",
       "      <td>2021-10-27</td>\n",
       "      <td>1</td>\n",
       "      <td>1635294460184</td>\n",
       "      <td>Hay lag, đứng hình, or ko ra bill, hay lỗi bil...</td>\n",
       "    </tr>\n",
       "    <tr>\n",
       "      <th>7</th>\n",
       "      <td>2021-10-21</td>\n",
       "      <td>1</td>\n",
       "      <td>1634791504242</td>\n",
       "      <td>Đăng nhập thì cứ bị văng ra. Nhân viên gọi mìn...</td>\n",
       "    </tr>\n",
       "  </tbody>\n",
       "</table>\n",
       "</div>"
      ],
      "text/plain": [
       "        date  rating             id  \\\n",
       "0 2021-08-27       1  1630035830790   \n",
       "1 2021-08-03       1  1627980064551   \n",
       "2 2021-08-10       1  1628608463328   \n",
       "3 2021-10-27       1  1635294460184   \n",
       "7 2021-10-21       1  1634791504242   \n",
       "\n",
       "                                             content  \n",
       "0  Nhập đúng tên đăng nhập với mật khẩu mà cứ báo...  \n",
       "1      Out ra liên tục rồi k thể vào lại được là sao  \n",
       "2  App quá tệ nói dùng thử mà dùng thử vẫn không ...  \n",
       "3  Hay lag, đứng hình, or ko ra bill, hay lỗi bil...  \n",
       "7  Đăng nhập thì cứ bị văng ra. Nhân viên gọi mìn...  "
      ]
     },
     "execution_count": 6,
     "metadata": {},
     "output_type": "execute_result"
    }
   ],
   "source": [
    "#Loại các trường hợp null content\n",
    "df = df.loc[~df.content.isna()]\n",
    "df.head()"
   ]
  },
  {
   "cell_type": "markdown",
   "metadata": {},
   "source": [
    "### II. Xem phân phối"
   ]
  },
  {
   "cell_type": "markdown",
   "metadata": {},
   "source": [
    "#### 1. Avg words trong mỗi bài đáng giá"
   ]
  },
  {
   "cell_type": "code",
   "execution_count": 7,
   "metadata": {},
   "outputs": [
    {
     "data": {
      "image/png": "[encoded data removed]",
      "text/plain": [
       "<Figure size 432x288 with 1 Axes>"
      ]
     },
     "metadata": {
      "needs_background": "light"
     },
     "output_type": "display_data"
    }
   ],
   "source": [
    "#Getting the number of words by splitting them by a space\n",
    "words_per_review = df.content.apply(lambda x: len(x.split(\" \")))\n",
    "words_per_review.hist(bins = 100)\n",
    "\n",
    "plt.xlabel('Review Length (word)')\n",
    "plt.ylabel('Frequency')\n",
    "plt.show()"
   ]
  },
  {
   "cell_type": "code",
   "execution_count": 8,
   "metadata": {},
   "outputs": [
    {
     "name": "stdout",
     "output_type": "stream",
     "text": [
      "Average words: 17.121148459383754\n",
      "Skewness: 4.932708358849552\n"
     ]
    }
   ],
   "source": [
    "print('Average words:', words_per_review.mean())\n",
    "print('Skewness:', words_per_review.skew())"
   ]
  },
  {
   "cell_type": "markdown",
   "metadata": {},
   "source": [
    "=> Số lượng từ trên mỗi bài đánh giá của người dùng (words_per_review) có độ lệch dương (positive skewness) với trung bình là 17, tức trung bình người dùng đánh giá 17 từ"
   ]
  },
  {
   "cell_type": "markdown",
   "metadata": {},
   "source": [
    "#### 2. Distribution of ratings"
   ]
  },
  {
   "cell_type": "code",
   "execution_count": 9,
   "metadata": {},
   "outputs": [
    {
     "data": {
      "image/png": "[encoded data removed]",
      "text/plain": [
       "<Figure size 432x288 with 1 Axes>"
      ]
     },
     "metadata": {
      "needs_background": "light"
     },
     "output_type": "display_data"
    }
   ],
   "source": [
    "#Seperating by groups\n",
    "groups = df.groupby('rating').count()\n",
    "Values = groups.content\n",
    "colors = ['r', 'g', 'b', 'c', 'm']\n",
    "\n",
    "#Making bar plot\n",
    "plt.bar(([1,2,3,4,5]), Values, color= colors)\n",
    "plt.title('Rating Distribution')\n",
    "plt.xlabel('Rating')\n",
    "plt.ylabel('Review Quantity')\n",
    "plt.show()"
   ]
  },
  {
   "cell_type": "code",
   "execution_count": 10,
   "metadata": {},
   "outputs": [
    {
     "data": {
      "text/plain": [
       "5    42.296919\n",
       "1    29.341737\n",
       "3    11.414566\n",
       "4    10.504202\n",
       "2     6.442577\n",
       "Name: rating, dtype: float64"
      ]
     },
     "execution_count": 10,
     "metadata": {},
     "output_type": "execute_result"
    }
   ],
   "source": [
    "#Rating ratio\n",
    "percent_val = 100 * df['rating'].value_counts()/len(df)\n",
    "percent_val"
   ]
  },
  {
   "cell_type": "markdown",
   "metadata": {
    "ExecuteTime": {
     "end_time": "2021-07-18T03:29:49.806713Z",
     "start_time": "2021-07-18T03:29:49.649618Z"
    }
   },
   "source": [
    "=> Sự phân bố khá lệch, với 1 số lượng lớn ở 5 sao và rất ít ở 3, 4, 2 sao"
   ]
  },
  {
   "cell_type": "code",
   "execution_count": 11,
   "metadata": {},
   "outputs": [
    {
     "data": {
      "text/plain": [
       "1    754\n",
       "0    674\n",
       "Name: binary_class, dtype: int64"
      ]
     },
     "execution_count": 11,
     "metadata": {},
     "output_type": "execute_result"
    }
   ],
   "source": [
    "#Mapping the rating (creating new binary_class column)\n",
    "df['binary_class'] = np.where(df['rating'] > 3, 1, 0)\n",
    "\n",
    "#Printing the counts of each class\n",
    "df['binary_class'].value_counts()"
   ]
  },
  {
   "cell_type": "markdown",
   "metadata": {},
   "source": [
    "#### 3. Words Cloud"
   ]
  },
  {
   "cell_type": "code",
   "execution_count": 12,
   "metadata": {},
   "outputs": [],
   "source": [
    "## pip install wordcloud\n",
    "from wordcloud import WordCloud"
   ]
  },
  {
   "cell_type": "code",
   "execution_count": 13,
   "metadata": {},
   "outputs": [
    {
     "data": {
      "image/png": "[encoded data removed]",
      "text/plain": [
       "<Figure size 432x288 with 1 Axes>"
      ]
     },
     "metadata": {
      "needs_background": "light"
     },
     "output_type": "display_data"
    }
   ],
   "source": [
    "word_cloud_text = ' '.join(df['content'])\n",
    "wordCloud = WordCloud(max_font_size = 250,            # Maximum font size for the largest word\n",
    "                      background_color = \"black\",     # Background color for the word cloud image\n",
    "                      scale = 10,                     # Scaling between computation and drawing\n",
    "                      width = 800,                    # Width of the canvas\n",
    "                      height = 500,                   # Height of the canvas\n",
    "                      random_state = 21\n",
    "                     ).generate(word_cloud_text)\n",
    "\n",
    "plt.imshow(wordCloud, interpolation = \"bilinear\")\n",
    "plt.axis('off')\n",
    "plt.show()"
   ]
  },
  {
   "cell_type": "markdown",
   "metadata": {},
   "source": [
    "=> Một số từ xuất hiện nhiều nhưng không có ý nghĩa trong việc phân tích như: là, mà, và, thì, có, kiotviet, trong, để,..."
   ]
  },
  {
   "cell_type": "markdown",
   "metadata": {},
   "source": [
    "### III. Pre-processing"
   ]
  },
  {
   "cell_type": "code",
   "execution_count": 14,
   "metadata": {},
   "outputs": [],
   "source": [
    "#Import regex\n",
    "import regex as re"
   ]
  },
  {
   "cell_type": "markdown",
   "metadata": {},
   "source": [
    "#### 1. Chuẩn hóa bảng mã tiếng Việt"
   ]
  },
  {
   "cell_type": "code",
   "execution_count": 15,
   "metadata": {
    "ExecuteTime": {
     "end_time": "2021-07-18T03:32:25.588312Z",
     "start_time": "2021-07-18T03:32:25.511121Z"
    },
    "scrolled": true
   },
   "outputs": [
    {
     "data": {
      "text/plain": [
       "0    Nhập đúng tên đăng nhập với mật khẩu mà cứ báo...\n",
       "1        Out ra liên tục rồi k thể vào lại được là sao\n",
       "2    App quá tệ nói dùng thử mà dùng thử vẫn không ...\n",
       "3    Hay lag, đứng hình, or ko ra bill, hay lỗi bil...\n",
       "7    Đăng nhập thì cứ bị văng ra. Nhân viên gọi mìn...\n",
       "Name: content_fix, dtype: object"
      ]
     },
     "execution_count": 15,
     "metadata": {},
     "output_type": "execute_result"
    }
   ],
   "source": [
    "#Chuẩn hóa bảng mã tiếng Việt\n",
    "\n",
    "uniChars = \"àáảãạâầấẩẫậăằắẳẵặèéẻẽẹêềếểễệđìíỉĩịòóỏõọôồốổỗộơờớởỡợùúủũụưừứửữựỳýỷỹỵÀÁẢÃẠÂẦẤẨẪẬĂẰẮẲẴẶÈÉẺẼẸÊỀẾỂỄỆĐÌÍỈĨỊÒÓỎÕỌÔỒỐỔỖỘƠỜỚỞỠỢÙÚỦŨỤƯỪỨỬỮỰỲÝỶỸỴÂĂĐÔƠƯ\"\n",
    "unsignChars = \"aaaaaaaaaaaaaaaaaeeeeeeeeeeediiiiiooooooooooooooooouuuuuuuuuuuyyyyyAAAAAAAAAAAAAAAAAEEEEEEEEEEEDIIIOOOOOOOOOOOOOOOOOOOUUUUUUUUUUUYYYYYAADOOU\"\n",
    " \n",
    "\n",
    "def loaddicchar():\n",
    "    dic = {}\n",
    "    char1252 = 'à|á|ả|ã|ạ|ầ|ấ|ẩ|ẫ|ậ|ằ|ắ|ẳ|ẵ|ặ|è|é|ẻ|ẽ|ẹ|ề|ế|ể|ễ|ệ|ì|í|ỉ|ĩ|ị|ò|ó|ỏ|õ|ọ|ồ|ố|ổ|ỗ|ộ|ờ|ớ|ở|ỡ|ợ|ù|ú|ủ|ũ|ụ|ừ|ứ|ử|ữ|ự|ỳ|ý|ỷ|ỹ|ỵ|À|Á|Ả|Ã|Ạ|Ầ|Ấ|Ẩ|Ẫ|Ậ|Ằ|Ắ|Ẳ|Ẵ|Ặ|È|É|Ẻ|Ẽ|Ẹ|Ề|Ế|Ể|Ễ|Ệ|Ì|Í|Ỉ|Ĩ|Ị|Ò|Ó|Ỏ|Õ|Ọ|Ồ|Ố|Ổ|Ỗ|Ộ|Ờ|Ớ|Ở|Ỡ|Ợ|Ù|Ú|Ủ|Ũ|Ụ|Ừ|Ứ|Ử|Ữ|Ự|Ỳ|Ý|Ỷ|Ỹ|Ỵ'.split(\n",
    "        '|')\n",
    "    charutf8 = \"à|á|ả|ã|ạ|ầ|ấ|ẩ|ẫ|ậ|ằ|ắ|ẳ|ẵ|ặ|è|é|ẻ|ẽ|ẹ|ề|ế|ể|ễ|ệ|ì|í|ỉ|ĩ|ị|ò|ó|ỏ|õ|ọ|ồ|ố|ổ|ỗ|ộ|ờ|ớ|ở|ỡ|ợ|ù|ú|ủ|ũ|ụ|ừ|ứ|ử|ữ|ự|ỳ|ý|ỷ|ỹ|ỵ|À|Á|Ả|Ã|Ạ|Ầ|Ấ|Ẩ|Ẫ|Ậ|Ằ|Ắ|Ẳ|Ẵ|Ặ|È|É|Ẻ|Ẽ|Ẹ|Ề|Ế|Ể|Ễ|Ệ|Ì|Í|Ỉ|Ĩ|Ị|Ò|Ó|Ỏ|Õ|Ọ|Ồ|Ố|Ổ|Ỗ|Ộ|Ờ|Ớ|Ở|Ỡ|Ợ|Ù|Ú|Ủ|Ũ|Ụ|Ừ|Ứ|Ử|Ữ|Ự|Ỳ|Ý|Ỷ|Ỹ|Ỵ\".split(\n",
    "        '|')\n",
    "    for i in range(len(char1252)):\n",
    "        dic[char1252[i]] = charutf8[i]\n",
    "    return dic\n",
    " \n",
    "dicchar = loaddicchar()\n",
    " \n",
    "#Đưa toàn bộ dữ liệu qua hàm này để chuẩn hóa lại \n",
    "def covert_unicode(txt):\n",
    "    return re.sub(\n",
    "        r'à|á|ả|ã|ạ|ầ|ấ|ẩ|ẫ|ậ|ằ|ắ|ẳ|ẵ|ặ|è|é|ẻ|ẽ|ẹ|ề|ế|ể|ễ|ệ|ì|í|ỉ|ĩ|ị|ò|ó|ỏ|õ|ọ|ồ|ố|ổ|ỗ|ộ|ờ|ớ|ở|ỡ|ợ|ù|ú|ủ|ũ|ụ|ừ|ứ|ử|ữ|ự|ỳ|ý|ỷ|ỹ|ỵ|À|Á|Ả|Ã|Ạ|Ầ|Ấ|Ẩ|Ẫ|Ậ|Ằ|Ắ|Ẳ|Ẵ|Ặ|È|É|Ẻ|Ẽ|Ẹ|Ề|Ế|Ể|Ễ|Ệ|Ì|Í|Ỉ|Ĩ|Ị|Ò|Ó|Ỏ|Õ|Ọ|Ồ|Ố|Ổ|Ỗ|Ộ|Ờ|Ớ|Ở|Ỡ|Ợ|Ù|Ú|Ủ|Ũ|Ụ|Ừ|Ứ|Ử|Ữ|Ự|Ỳ|Ý|Ỷ|Ỹ|Ỵ',\n",
    "        lambda x: dicchar[x.group()], txt)\n",
    "\n",
    "#Apply function\n",
    "df['content_fix'] = df['content'].apply(lambda txt: covert_unicode(txt))\n",
    "df['content_fix'].head()"
   ]
  },
  {
   "cell_type": "markdown",
   "metadata": {},
   "source": [
    "#### 2. Đưa chữ cái về dạng lower"
   ]
  },
  {
   "cell_type": "code",
   "execution_count": 16,
   "metadata": {
    "ExecuteTime": {
     "end_time": "2021-07-18T03:33:52.156573Z",
     "start_time": "2021-07-18T03:33:52.146044Z"
    }
   },
   "outputs": [
    {
     "data": {
      "text/plain": [
       "0    nhập đúng tên đăng nhập với mật khẩu mà cứ báo...\n",
       "1        out ra liên tục rồi k thể vào lại được là sao\n",
       "2    app quá tệ nói dùng thử mà dùng thử vẫn không ...\n",
       "3    hay lag, đứng hình, or ko ra bill, hay lỗi bil...\n",
       "7    đăng nhập thì cứ bị văng ra. nhân viên gọi mìn...\n",
       "Name: content_fix, dtype: object"
      ]
     },
     "execution_count": 16,
     "metadata": {},
     "output_type": "execute_result"
    }
   ],
   "source": [
    "def lower(l):\n",
    "    return l.lower()\n",
    "df['content_fix'] = df['content_fix'].apply(lambda l: lower(l))\n",
    "df['content_fix'].head()"
   ]
  },
  {
   "cell_type": "markdown",
   "metadata": {},
   "source": [
    "#### 3. Chuẩn hóa từ viết tắt và English words"
   ]
  },
  {
   "cell_type": "code",
   "execution_count": 17,
   "metadata": {},
   "outputs": [],
   "source": [
    "#List từ chuẩn hóa\n",
    "replace_list = {\n",
    "    ' okie ': ' ok ', ' o kê ': ' ok ', ' okey ': ' ok ', ' oki ': ' ok ', ' oke ': ' ok ', ' okay ':' ok ', ' okê ':' ok ', ' okk ':' ok ',\n",
    "    ' kg ': u' không ', ' not ': u' không ', ' k ': u' không ', ' ko ': u' không ', 'ko': u' không ', ' kh ':u' không ',' hok ':u' không ', u'không ':u' không ', ' khong ':u' không ',\n",
    "    u' đx ': u' được ', ' dk ': u' được ', ' dc ': u' được ', ' dc': u' được ', ' đk ': u' được ', ' đc ': u' được ',\n",
    "    ' good ': u' tốt ', 'good': u' tốt ', u' tot ': u' tốt ', u'tot ': u' tốt ', u'tot': u' tốt ', u' nice ': u' tốt ', ' perfect ' : ' rất tốt ', ' great ': ' rất tuyệt ', 'great ': ' rất tuyệt ', 'great': ' rất tuyệt ',\n",
    "    ' thik ': u' thích ', u' thic ': u' thích ', u' like ': u' thích ',\n",
    "    ' bad ': ' tệ ', ' lol ': ' tệ ', ' l ': ' tệ ', ' cc ': ' tệ ', ' cc': ' tệ ', ' shit ': ' tệ ',\n",
    "    ' app ': ' ứng dụng ', 'app ': ' ứng dụng ', ' tien ich ': ' tiện ích ', ' huu ich ': ' hữu ích ', u' đt ': ' điện thoại '\n",
    "    } \n",
    "\n",
    "df['content_fix'] = df['content_fix'].replace(replace_list, regex=True)"
   ]
  },
  {
   "cell_type": "markdown",
   "metadata": {},
   "source": [
    "#### 4. Xóa các số, ký tự không cần thiết, khoảng trắng thừa"
   ]
  },
  {
   "cell_type": "code",
   "execution_count": 18,
   "metadata": {
    "scrolled": false
   },
   "outputs": [
    {
     "data": {
      "text/plain": [
       "0    nhập đúng tên đăng nhập với mật khẩu mà cứ báo...\n",
       "1    out ra liên tục rồi không thể vào lại được là sao\n",
       "2    ứng dụng quá tệ nói dùng thử mà dùng thử vẫn k...\n",
       "3    hay lag đứng hình or không ra bill hay lỗi bil...\n",
       "7    đăng nhập thì cứ bị văng ra nhân viên gọi mình...\n",
       "Name: content_fix, dtype: object"
      ]
     },
     "execution_count": 18,
     "metadata": {},
     "output_type": "execute_result"
    }
   ],
   "source": [
    "#Create a function to clean the content\n",
    "def cleanTxt(text):\n",
    "    text = re.sub(r\"[0-9]\",' ',text)                    #Xóa các số\n",
    "    text = re.sub(r'[^\\s\\wáàảãạăắằẳẵặâấầẩẫậéèẻẽẹêếềểễệóòỏõọôốồổỗộơớờởỡợíìỉĩịúùủũụưứừửữựýỳỷỹỵđ_]',' ',text) #Xóa các ký tự không cần thiết\n",
    "    text = re.sub(r'\\s+', ' ', text).strip()           #Xóa các khoảng trắng thừa\n",
    "    return text\n",
    "\n",
    "#Cleaning\n",
    "df['content_fix'] = df['content_fix'].apply(cleanTxt)\n",
    "\n",
    "#Show the cleaned text\n",
    "df['content_fix'] = df.content_fix.str.replace(\"_\",'')\n",
    "df['content_fix'].head()"
   ]
  },
  {
   "cell_type": "markdown",
   "metadata": {},
   "source": [
    "#### 5. Stopwords with high/low frequency words"
   ]
  },
  {
   "cell_type": "code",
   "execution_count": 19,
   "metadata": {
    "scrolled": true
   },
   "outputs": [
    {
     "data": {
      "image/png": "[encoded data removed]",
      "text/plain": [
       "<Figure size 432x288 with 1 Axes>"
      ]
     },
     "metadata": {
      "needs_background": "light"
     },
     "output_type": "display_data"
    }
   ],
   "source": [
    "#Check words cloud với data content sau khi được làm sạch\n",
    "word_cloud = ' '.join(df['content_fix'])\n",
    "wordCloud_new = WordCloud(max_font_size = 250,        # Maximum font size for the largest word\n",
    "                      background_color = \"black\",     # Background color for the word cloud image\n",
    "                      scale = 10,                     # Scaling between computation and drawing\n",
    "                      width = 500,                    # Width of the canvas\n",
    "                      height = 300,                   # Height of the canvas\n",
    "                      random_state = 21\n",
    "                     ).generate(word_cloud)\n",
    "\n",
    "plt.imshow(wordCloud_new, interpolation = \"bilinear\")\n",
    "plt.axis('off')\n",
    "plt.show()"
   ]
  },
  {
   "cell_type": "code",
   "execution_count": 20,
   "metadata": {
    "scrolled": true
   },
   "outputs": [
    {
     "data": {
      "text/plain": [
       "không    638\n",
       "dụng     509\n",
       "hàng     488\n",
       "ứng      378\n",
       "được     369\n",
       "có       321\n",
       "phần     295\n",
       "rất      256\n",
       "tốt      220\n",
       "cho      218\n",
       "dùng     211\n",
       "lỗi      202\n",
       "và       200\n",
       "thì      194\n",
       "nhập     194\n",
       "mềm      187\n",
       "trên     180\n",
       "là       177\n",
       "năng     171\n",
       "mình     170\n",
       "dtype: int64"
      ]
     },
     "execution_count": 20,
     "metadata": {},
     "output_type": "execute_result"
    }
   ],
   "source": [
    "#Top 20 the common words\n",
    "pd.Series(' '.join(df.content_fix).split()).value_counts().head(20)"
   ]
  },
  {
   "cell_type": "markdown",
   "metadata": {},
   "source": [
    "=> Chọn các từ xuất hiện nhiều nhưng không có ý nghĩa trong việc phân tích sentiment gồm: có, rất, cho, và, thì, là, mà, kiotviet, trong, để, này, như"
   ]
  },
  {
   "cell_type": "code",
   "execution_count": 21,
   "metadata": {},
   "outputs": [],
   "source": [
    "#Create list stopwords\n",
    "stop_words = ['có', 'rất', 'cho', 'và', 'thì', 'là', 'mà', 'kiotviet', 'trong', 'ạ', 'nữa', 'bị', 'dùng', 'phần', 'trên', 'dưới',\n",
    "              'để', 'này', 'như', 'mình', 'khi', 'lại', 'rồi', 'sẽ', 'nên', 'của', 'vào', 'ra', 'các', 'nhưng', 'cũng', 'với',\n",
    "              'nếu', 'quá', 'à', 'đó', 'đấy', 'đã', 'gì', 'vẫn', 'tôi', 'còn', 'luôn', 'lên', 'chỉ', 'phải', 'được'\n",
    "             ]"
   ]
  },
  {
   "cell_type": "markdown",
   "metadata": {},
   "source": [
    "#### 6. Tokenization"
   ]
  },
  {
   "cell_type": "code",
   "execution_count": 22,
   "metadata": {},
   "outputs": [],
   "source": [
    "## pip install vncorenlp\n",
    "from vncorenlp import VnCoreNLP"
   ]
  },
  {
   "cell_type": "code",
   "execution_count": 23,
   "metadata": {},
   "outputs": [],
   "source": [
    "vncorenlp_file =  VnCoreNLP(r'C:\\Users\\Mycomputer\\Documents\\Python Scripts\\CoreNLP\\VnCoreNLP-1.1.jar', annotators=\"wseg,pos,ner,parse\", max_heap_size='-Xmx2g')"
   ]
  },
  {
   "cell_type": "code",
   "execution_count": 24,
   "metadata": {},
   "outputs": [],
   "source": [
    "#Create function Tokenization\n",
    "def preprocessing(t):\n",
    "    result_pre = vncorenlp_file.tokenize(t)\n",
    "    return result_pre\n",
    "## pos_tag"
   ]
  },
  {
   "cell_type": "code",
   "execution_count": 25,
   "metadata": {
    "scrolled": true
   },
   "outputs": [],
   "source": [
    "#Tách từ tiếng việt\n",
    "df['word_segmentation'] = df['content_fix'].apply(lambda t: preprocessing(t))"
   ]
  },
  {
   "cell_type": "markdown",
   "metadata": {},
   "source": [
    "###### Combine the words from list to list into sentences"
   ]
  },
  {
   "cell_type": "code",
   "execution_count": 26,
   "metadata": {},
   "outputs": [],
   "source": [
    "import itertools"
   ]
  },
  {
   "cell_type": "code",
   "execution_count": 27,
   "metadata": {},
   "outputs": [],
   "source": [
    "#Kết hợp thành câu\n",
    "ls = df['word_segmentation']\n",
    "\n",
    "def join(ls):\n",
    "    merged = list(itertools.chain.from_iterable(ls))\n",
    "    new_join = ' '.join(merged)\n",
    "    return new_join\n",
    "\n",
    "df['word_segmentation'] = df['word_segmentation'].apply(lambda ls: join(ls))"
   ]
  },
  {
   "cell_type": "markdown",
   "metadata": {},
   "source": [
    "#### 7. Reject stopwords"
   ]
  },
  {
   "cell_type": "code",
   "execution_count": 28,
   "metadata": {
    "ExecuteTime": {
     "end_time": "2021-07-18T03:38:40.268533Z",
     "start_time": "2021-07-18T03:38:40.247256Z"
    }
   },
   "outputs": [],
   "source": [
    "## install nltk\n",
    "from nltk.tokenize import word_tokenize\n",
    "import nltk"
   ]
  },
  {
   "cell_type": "code",
   "execution_count": 29,
   "metadata": {},
   "outputs": [],
   "source": [
    "#Tạo hàm remove stop word: nhận vào 1 câu và xuất ra 1 câu kết quả\n",
    "text = df['word_segmentation']\n",
    "\n",
    "def remove_stop_words(text):\n",
    "    tokens  = [word for word in word_tokenize(text) if not word in stop_words]\n",
    "    new_text = ' '.join(tokens)\n",
    "    return new_text\n",
    "\n",
    "#df['word_segmentation'].apply(lambda text: remove_stop_words(text))"
   ]
  },
  {
   "cell_type": "code",
   "execution_count": 30,
   "metadata": {},
   "outputs": [],
   "source": [
    "#lấy list reviews\n",
    "list_review = df['word_segmentation'].tolist()\n",
    "\n",
    "#Khai báo list kết quả\n",
    "list_filtered_sentence = [] \n",
    "\n",
    "#For loop các reviews tạo ra từng kết quả tương ứng\n",
    "for r in list_review: \n",
    "    filtered_review = remove_stop_words(r)\n",
    "    list_filtered_sentence.append(filtered_review)\n",
    "\n",
    "#Gán lại kết quả vào cột mới\n",
    "df['word_segmentation'] = list_filtered_sentence"
   ]
  },
  {
   "cell_type": "code",
   "execution_count": 31,
   "metadata": {
    "scrolled": true
   },
   "outputs": [
    {
     "data": {
      "text/html": [
       "<div>\n",
       "<style scoped>\n",
       "    .dataframe tbody tr th:only-of-type {\n",
       "        vertical-align: middle;\n",
       "    }\n",
       "\n",
       "    .dataframe tbody tr th {\n",
       "        vertical-align: top;\n",
       "    }\n",
       "\n",
       "    .dataframe thead th {\n",
       "        text-align: right;\n",
       "    }\n",
       "</style>\n",
       "<table border=\"1\" class=\"dataframe\">\n",
       "  <thead>\n",
       "    <tr style=\"text-align: right;\">\n",
       "      <th></th>\n",
       "      <th>date</th>\n",
       "      <th>rating</th>\n",
       "      <th>id</th>\n",
       "      <th>content</th>\n",
       "      <th>binary_class</th>\n",
       "      <th>content_fix</th>\n",
       "      <th>word_segmentation</th>\n",
       "    </tr>\n",
       "  </thead>\n",
       "  <tbody>\n",
       "    <tr>\n",
       "      <th>0</th>\n",
       "      <td>2021-08-27</td>\n",
       "      <td>1</td>\n",
       "      <td>1630035830790</td>\n",
       "      <td>Nhập đúng tên đăng nhập với mật khẩu mà cứ báo...</td>\n",
       "      <td>0</td>\n",
       "      <td>nhập đúng tên đăng nhập với mật khẩu mà cứ báo...</td>\n",
       "      <td>nhập đúng tên đăng_nhập mật_khẩu cứ báo lỗi đă...</td>\n",
       "    </tr>\n",
       "    <tr>\n",
       "      <th>1</th>\n",
       "      <td>2021-08-03</td>\n",
       "      <td>1</td>\n",
       "      <td>1627980064551</td>\n",
       "      <td>Out ra liên tục rồi k thể vào lại được là sao</td>\n",
       "      <td>0</td>\n",
       "      <td>out ra liên tục rồi không thể vào lại được là sao</td>\n",
       "      <td>out liên_tục không_thể sao</td>\n",
       "    </tr>\n",
       "    <tr>\n",
       "      <th>2</th>\n",
       "      <td>2021-08-10</td>\n",
       "      <td>1</td>\n",
       "      <td>1628608463328</td>\n",
       "      <td>App quá tệ nói dùng thử mà dùng thử vẫn không ...</td>\n",
       "      <td>0</td>\n",
       "      <td>ứng dụng quá tệ nói dùng thử mà dùng thử vẫn k...</td>\n",
       "      <td>ứng_dụng tệ nói thử thử không kết_quả nói trun...</td>\n",
       "    </tr>\n",
       "  </tbody>\n",
       "</table>\n",
       "</div>"
      ],
      "text/plain": [
       "        date  rating             id  \\\n",
       "0 2021-08-27       1  1630035830790   \n",
       "1 2021-08-03       1  1627980064551   \n",
       "2 2021-08-10       1  1628608463328   \n",
       "\n",
       "                                             content  binary_class  \\\n",
       "0  Nhập đúng tên đăng nhập với mật khẩu mà cứ báo...             0   \n",
       "1      Out ra liên tục rồi k thể vào lại được là sao             0   \n",
       "2  App quá tệ nói dùng thử mà dùng thử vẫn không ...             0   \n",
       "\n",
       "                                         content_fix  \\\n",
       "0  nhập đúng tên đăng nhập với mật khẩu mà cứ báo...   \n",
       "1  out ra liên tục rồi không thể vào lại được là sao   \n",
       "2  ứng dụng quá tệ nói dùng thử mà dùng thử vẫn k...   \n",
       "\n",
       "                                   word_segmentation  \n",
       "0  nhập đúng tên đăng_nhập mật_khẩu cứ báo lỗi đă...  \n",
       "1                         out liên_tục không_thể sao  \n",
       "2  ứng_dụng tệ nói thử thử không kết_quả nói trun...  "
      ]
     },
     "execution_count": 31,
     "metadata": {},
     "output_type": "execute_result"
    }
   ],
   "source": [
    "df.head(3)"
   ]
  },
  {
   "cell_type": "markdown",
   "metadata": {},
   "source": [
    "### IV. Building a ML model"
   ]
  },
  {
   "cell_type": "markdown",
   "metadata": {},
   "source": [
    "#### 1. Chuẩn hóa rating cho phân tích"
   ]
  },
  {
   "cell_type": "markdown",
   "metadata": {},
   "source": [
    "Để giúp train model tốt hơn, chuyển 5 loại xếp hạng về thành 2 class (0,1)\n",
    "- Xếp hạng dưới 3 sao là 0 (negative)\n",
    "- Xếp hạng từ 4 trở lên sao là 1 (positive)\n",
    "- Xếp hạng = 3 là neutral nên loại bỏ để mô hình chạy tốt hơn"
   ]
  },
  {
   "cell_type": "code",
   "execution_count": 32,
   "metadata": {
    "scrolled": true
   },
   "outputs": [
    {
     "name": "stderr",
     "output_type": "stream",
     "text": [
      "<ipython-input-32-72030cb78851>:5: SettingWithCopyWarning: \n",
      "A value is trying to be set on a copy of a slice from a DataFrame.\n",
      "Try using .loc[row_indexer,col_indexer] = value instead\n",
      "\n",
      "See the caveats in the documentation: https://pandas.pydata.org/pandas-docs/stable/user_guide/indexing.html#returning-a-view-versus-a-copy\n",
      "  df_new['sentiment_rating'] = np.where(df_new['rating'] > 3, 1, 0)\n"
     ]
    },
    {
     "data": {
      "text/plain": [
       "1    754\n",
       "0    511\n",
       "Name: sentiment_rating, dtype: int64"
      ]
     },
     "execution_count": 32,
     "metadata": {},
     "output_type": "execute_result"
    }
   ],
   "source": [
    "#Removeing neutral review (rating = 3)\n",
    "df_new = df[df.rating != 3]\n",
    "\n",
    "#Mapping the rating (creating new binary_class column)\n",
    "df_new['sentiment_rating'] = np.where(df_new['rating'] > 3, 1, 0)\n",
    "\n",
    "#Printing the counts of each class\n",
    "df_new['sentiment_rating'].value_counts()"
   ]
  },
  {
   "cell_type": "code",
   "execution_count": 33,
   "metadata": {},
   "outputs": [
    {
     "data": {
      "image/png": "[encoded data removed]",
      "text/plain": [
       "<Figure size 432x288 with 1 Axes>"
      ]
     },
     "metadata": {
      "needs_background": "light"
     },
     "output_type": "display_data"
    }
   ],
   "source": [
    "df_new['sentiment_rating'].value_counts().plot.bar()\n",
    "plt.show()"
   ]
  },
  {
   "cell_type": "markdown",
   "metadata": {},
   "source": [
    "=> Dữ liệu thu được không có sự chênh lệch đáng kể về số lượng, tuy nhiên vẫn có imbalance nhẹ"
   ]
  },
  {
   "cell_type": "code",
   "execution_count": 34,
   "metadata": {},
   "outputs": [
    {
     "data": {
      "text/html": [
       "<div>\n",
       "<style scoped>\n",
       "    .dataframe tbody tr th:only-of-type {\n",
       "        vertical-align: middle;\n",
       "    }\n",
       "\n",
       "    .dataframe tbody tr th {\n",
       "        vertical-align: top;\n",
       "    }\n",
       "\n",
       "    .dataframe thead th {\n",
       "        text-align: right;\n",
       "    }\n",
       "</style>\n",
       "<table border=\"1\" class=\"dataframe\">\n",
       "  <thead>\n",
       "    <tr style=\"text-align: right;\">\n",
       "      <th></th>\n",
       "      <th>word_segmentation</th>\n",
       "      <th>rating</th>\n",
       "      <th>sentiment_rating</th>\n",
       "    </tr>\n",
       "  </thead>\n",
       "  <tbody>\n",
       "    <tr>\n",
       "      <th>0</th>\n",
       "      <td>nhập đúng tên đăng_nhập mật_khẩu cứ báo lỗi đă...</td>\n",
       "      <td>1</td>\n",
       "      <td>0</td>\n",
       "    </tr>\n",
       "    <tr>\n",
       "      <th>1</th>\n",
       "      <td>out liên_tục không_thể sao</td>\n",
       "      <td>1</td>\n",
       "      <td>0</td>\n",
       "    </tr>\n",
       "    <tr>\n",
       "      <th>2</th>\n",
       "      <td>ứng_dụng tệ nói thử thử không kết_quả nói trun...</td>\n",
       "      <td>1</td>\n",
       "      <td>0</td>\n",
       "    </tr>\n",
       "    <tr>\n",
       "      <th>3</th>\n",
       "      <td>hay lag đứng hình or không bill hay lỗi bill s...</td>\n",
       "      <td>1</td>\n",
       "      <td>0</td>\n",
       "    </tr>\n",
       "    <tr>\n",
       "      <th>7</th>\n",
       "      <td>đăng_nhập cứ văng nhân_viên gọi nói không nhu_...</td>\n",
       "      <td>1</td>\n",
       "      <td>0</td>\n",
       "    </tr>\n",
       "  </tbody>\n",
       "</table>\n",
       "</div>"
      ],
      "text/plain": [
       "                                   word_segmentation  rating  sentiment_rating\n",
       "0  nhập đúng tên đăng_nhập mật_khẩu cứ báo lỗi đă...       1                 0\n",
       "1                         out liên_tục không_thể sao       1                 0\n",
       "2  ứng_dụng tệ nói thử thử không kết_quả nói trun...       1                 0\n",
       "3  hay lag đứng hình or không bill hay lỗi bill s...       1                 0\n",
       "7  đăng_nhập cứ văng nhân_viên gọi nói không nhu_...       1                 0"
      ]
     },
     "execution_count": 34,
     "metadata": {},
     "output_type": "execute_result"
    }
   ],
   "source": [
    "df_new = df_new[['word_segmentation', 'rating','sentiment_rating']]\n",
    "df_new.head(5)"
   ]
  },
  {
   "cell_type": "markdown",
   "metadata": {},
   "source": [
    "####  2. Train/Test Split"
   ]
  },
  {
   "cell_type": "code",
   "execution_count": 35,
   "metadata": {},
   "outputs": [],
   "source": [
    "from sklearn.metrics import accuracy_score, f1_score, precision_score, recall_score, classification_report, confusion_matrix"
   ]
  },
  {
   "cell_type": "code",
   "execution_count": 36,
   "metadata": {},
   "outputs": [],
   "source": [
    "#train/test split\n",
    "from sklearn.model_selection import train_test_split\n",
    "\n",
    "X_train_words, X_test_words, y_train_words, y_test_words = train_test_split(df['word_segmentation'], df['binary_class'], test_size=0.2, random_state = 0)"
   ]
  },
  {
   "cell_type": "code",
   "execution_count": 37,
   "metadata": {},
   "outputs": [
    {
     "name": "stderr",
     "output_type": "stream",
     "text": [
      "C:\\Users\\Mycomputer\\anaconda3\\lib\\site-packages\\sklearn\\feature_extraction\\text.py:484: UserWarning: The parameter 'token_pattern' will not be used since 'tokenizer' is not None'\n",
      "  warnings.warn(\"The parameter 'token_pattern' will not be used\"\n"
     ]
    },
    {
     "name": "stdout",
     "output_type": "stream",
     "text": [
      "[[0 0 0 ... 0 0 0]\n",
      " [0 0 0 ... 0 0 0]\n",
      " [0 0 0 ... 0 0 0]\n",
      " ...\n",
      " [0 0 0 ... 0 0 0]\n",
      " [0 0 0 ... 0 0 0]\n",
      " [0 0 0 ... 0 0 0]]\n",
      "Accuracy_score:  0.8321678321678322\n",
      "F1_score:  0.8431372549019608\n"
     ]
    }
   ],
   "source": [
    "#Importing countvectorizer\n",
    "from sklearn.feature_extraction.text import CountVectorizer\n",
    "\n",
    "#Creating variable which assigns X_train to numbers (2 words)\n",
    "vect_w = CountVectorizer(tokenizer= word_tokenize,        # type of tokenization\n",
    "                       stop_words= stop_words,          # list of stopwords\n",
    "                       ngram_range=(1,2)                # nb of n-grams\n",
    "                      ).fit(X_train_words)\n",
    "\n",
    "#Translates numbers back to text\n",
    "vect_w.get_feature_names()[1:10]\n",
    "\n",
    "#Creating matrix array \n",
    "X_train_words = vect_w.transform(X_train_words)\n",
    "print (X_train_words.toarray())\n",
    "\n",
    "#Creating log regression\n",
    "from sklearn.linear_model import LogisticRegression\n",
    "\n",
    "nb_words_model = LogisticRegression(C=1,max_iter=200)\n",
    "nb_words_model.fit(X_train_words, y_train_words)\n",
    "\n",
    "#Predicting the output\n",
    "test_pred_nb_words = nb_words_model.predict(vect_w.transform(X_test_words))\n",
    "\n",
    "#Calulate key performance metrics\n",
    "print(\"Accuracy_score: \", accuracy_score(y_test_words, test_pred_nb_words))\n",
    "print(\"F1_score: \", f1_score(y_test_words, test_pred_nb_words))"
   ]
  },
  {
   "cell_type": "code",
   "execution_count": 38,
   "metadata": {
    "ExecuteTime": {
     "end_time": "2021-07-18T03:39:05.263906Z",
     "start_time": "2021-07-18T03:39:04.604413Z"
    }
   },
   "outputs": [],
   "source": [
    "#Splitting into train and test\n",
    "from sklearn.model_selection import train_test_split\n",
    "\n",
    "X_train, X_test, y_train, y_test = train_test_split(df_new['word_segmentation'], df_new['sentiment_rating'], test_size=0.2, random_state = 0)"
   ]
  },
  {
   "cell_type": "code",
   "execution_count": 39,
   "metadata": {},
   "outputs": [
    {
     "data": {
      "text/plain": [
       "((1012,), (253,), (1012,), (253,))"
      ]
     },
     "execution_count": 39,
     "metadata": {},
     "output_type": "execute_result"
    }
   ],
   "source": [
    "X_train.shape, X_test.shape, y_train.shape, y_test.shape"
   ]
  },
  {
   "cell_type": "code",
   "execution_count": 40,
   "metadata": {},
   "outputs": [
    {
     "name": "stderr",
     "output_type": "stream",
     "text": [
      "C:\\Users\\Mycomputer\\anaconda3\\lib\\site-packages\\sklearn\\feature_extraction\\text.py:484: UserWarning: The parameter 'token_pattern' will not be used since 'tokenizer' is not None'\n",
      "  warnings.warn(\"The parameter 'token_pattern' will not be used\"\n"
     ]
    },
    {
     "name": "stdout",
     "output_type": "stream",
     "text": [
      "[[0 0 0 ... 0 0 0]\n",
      " [0 0 0 ... 0 0 0]\n",
      " [0 0 0 ... 0 0 0]\n",
      " ...\n",
      " [0 0 0 ... 0 0 0]\n",
      " [0 0 0 ... 0 0 0]\n",
      " [0 0 0 ... 0 0 0]]\n"
     ]
    }
   ],
   "source": [
    "#Importing countvectorizer\n",
    "from sklearn.feature_extraction.text import CountVectorizer\n",
    "\n",
    "#Creating variable which assigns X_train to numbers (2 words)\n",
    "vect = CountVectorizer(tokenizer= word_tokenize,        # type of tokenization\n",
    "                       stop_words= stop_words,          # list of stopwords\n",
    "                       ngram_range=(1,2)                # nb of n-grams\n",
    "                      ).fit(X_train)\n",
    "\n",
    "#Translates numbers back to text\n",
    "vect.get_feature_names()[1:10]\n",
    "\n",
    "#Creating matrix array \n",
    "X_train = vect.transform(X_train)\n",
    "print (X_train.toarray())"
   ]
  },
  {
   "cell_type": "markdown",
   "metadata": {
    "ExecuteTime": {
     "end_time": "2021-07-18T03:39:05.270416Z",
     "start_time": "2021-07-18T03:39:05.266823Z"
    }
   },
   "source": [
    "####  3. Training Model"
   ]
  },
  {
   "cell_type": "code",
   "execution_count": 41,
   "metadata": {},
   "outputs": [],
   "source": [
    "from sklearn.metrics import accuracy_score, f1_score, precision_score, recall_score, classification_report, confusion_matrix"
   ]
  },
  {
   "cell_type": "markdown",
   "metadata": {},
   "source": [
    "##### a. Navie Bayes"
   ]
  },
  {
   "cell_type": "code",
   "execution_count": 42,
   "metadata": {},
   "outputs": [
    {
     "name": "stdout",
     "output_type": "stream",
     "text": [
      "Accuracy_score:  0.8735177865612648\n",
      "F1_score:  0.8888888888888888\n",
      "[[ 93   4]\n",
      " [ 28 128]]\n",
      "              precision    recall  f1-score   support\n",
      "\n",
      "           0       0.77      0.96      0.85        97\n",
      "           1       0.97      0.82      0.89       156\n",
      "\n",
      "    accuracy                           0.87       253\n",
      "   macro avg       0.87      0.89      0.87       253\n",
      "weighted avg       0.89      0.87      0.88       253\n",
      "\n"
     ]
    }
   ],
   "source": [
    "#Creating Naive Bayes\n",
    "from sklearn.naive_bayes import MultinomialNB\n",
    "\n",
    "nb_model = MultinomialNB()\n",
    "nb_model.fit(X_train, y_train)\n",
    "\n",
    "#Predicting the output\n",
    "test_pred_nb = nb_model.predict(vect.transform(X_test))\n",
    "\n",
    "#Calulate key performance metrics\n",
    "print(\"Accuracy_score: \", accuracy_score(y_test, test_pred_nb))\n",
    "print(\"F1_score: \", f1_score(y_test, test_pred_nb))\n",
    "print(confusion_matrix(y_test,test_pred_nb))\n",
    "print(classification_report(y_test,test_pred_nb))"
   ]
  },
  {
   "cell_type": "markdown",
   "metadata": {},
   "source": [
    "##### b. Logistic Regression"
   ]
  },
  {
   "cell_type": "code",
   "execution_count": 43,
   "metadata": {
    "scrolled": true
   },
   "outputs": [
    {
     "name": "stdout",
     "output_type": "stream",
     "text": [
      "Accuracy_score:  0.857707509881423\n",
      "F1_score:  0.881578947368421\n",
      "[[ 83  14]\n",
      " [ 22 134]]\n",
      "              precision    recall  f1-score   support\n",
      "\n",
      "           0       0.79      0.86      0.82        97\n",
      "           1       0.91      0.86      0.88       156\n",
      "\n",
      "    accuracy                           0.86       253\n",
      "   macro avg       0.85      0.86      0.85       253\n",
      "weighted avg       0.86      0.86      0.86       253\n",
      "\n"
     ]
    }
   ],
   "source": [
    "#Creating log regression\n",
    "from sklearn.linear_model import LogisticRegression\n",
    "\n",
    "lr_model = LogisticRegression(C=1,max_iter=200)\n",
    "lr_model.fit(X_train, y_train)\n",
    "\n",
    "#Predicting the output\n",
    "test_pred_lr = lr_model.predict(vect.transform(X_test))\n",
    "\n",
    "#Calulate key performance metrics\n",
    "print(\"Accuracy_score: \", accuracy_score(y_test, test_pred_lr))\n",
    "print(\"F1_score: \", f1_score(y_test, test_pred_lr))\n",
    "print(confusion_matrix(y_test,test_pred_lr))\n",
    "print(classification_report(y_test,test_pred_lr))"
   ]
  },
  {
   "cell_type": "markdown",
   "metadata": {},
   "source": [
    "##### c. Random Forest"
   ]
  },
  {
   "cell_type": "code",
   "execution_count": 44,
   "metadata": {},
   "outputs": [],
   "source": [
    "from sklearn.ensemble import RandomForestRegressor\n",
    "from sklearn.ensemble import RandomForestClassifier\n",
    "from sklearn.model_selection import GridSearchCV"
   ]
  },
  {
   "cell_type": "code",
   "execution_count": 45,
   "metadata": {
    "scrolled": true
   },
   "outputs": [
    {
     "name": "stdout",
     "output_type": "stream",
     "text": [
      "Accuracy_score:  0.849802371541502\n",
      "F1_score:  0.8716216216216216\n",
      "[[ 86  11]\n",
      " [ 27 129]]\n",
      "              precision    recall  f1-score   support\n",
      "\n",
      "           0       0.76      0.89      0.82        97\n",
      "           1       0.92      0.83      0.87       156\n",
      "\n",
      "    accuracy                           0.85       253\n",
      "   macro avg       0.84      0.86      0.85       253\n",
      "weighted avg       0.86      0.85      0.85       253\n",
      "\n"
     ]
    }
   ],
   "source": [
    "#Creating Random Forest\n",
    "rf_model = RandomForestClassifier(n_estimators=200, random_state=0)\n",
    "rf_model.fit(X_train, y_train)\n",
    "\n",
    "#Predicting the output\n",
    "test_pred_rf = rf_model.predict(vect.transform(X_test))\n",
    "\n",
    "#Calulate key performance metrics\n",
    "print(\"Accuracy_score: \", accuracy_score(y_test, test_pred_rf))\n",
    "print(\"F1_score: \", f1_score(y_test, test_pred_rf))\n",
    "print(confusion_matrix(y_test,test_pred_rf))\n",
    "print(classification_report(y_test,test_pred_rf))"
   ]
  },
  {
   "cell_type": "markdown",
   "metadata": {},
   "source": [
    "##### d. Support Vector Machine (SVM)"
   ]
  },
  {
   "cell_type": "code",
   "execution_count": 46,
   "metadata": {},
   "outputs": [
    {
     "name": "stdout",
     "output_type": "stream",
     "text": [
      "Accuracy_score:  0.857707509881423\n",
      "F1_score:  0.8838709677419355\n",
      "[[ 80  17]\n",
      " [ 19 137]]\n",
      "              precision    recall  f1-score   support\n",
      "\n",
      "           0       0.81      0.82      0.82        97\n",
      "           1       0.89      0.88      0.88       156\n",
      "\n",
      "    accuracy                           0.86       253\n",
      "   macro avg       0.85      0.85      0.85       253\n",
      "weighted avg       0.86      0.86      0.86       253\n",
      "\n"
     ]
    }
   ],
   "source": [
    "#Creating SVM\n",
    "from sklearn import svm\n",
    "from sklearn.svm import SVC\n",
    "\n",
    "svc_model = SVC(kernel='linear')\n",
    "svc_model.fit(X_train, y_train)\n",
    "\n",
    "#Predicting the output\n",
    "test_pred_svc = svc_model.predict(vect.transform(X_test))\n",
    "\n",
    "#Calulate key performance metrics\n",
    "print(\"Accuracy_score: \", accuracy_score(y_test, test_pred_svc))\n",
    "print(\"F1_score: \", f1_score(y_test, test_pred_svc))\n",
    "print(confusion_matrix(y_test,test_pred_svc))\n",
    "print(classification_report(y_test,test_pred_svc))"
   ]
  },
  {
   "cell_type": "markdown",
   "metadata": {},
   "source": [
    "##### e. So sánh giữa các model với nhau"
   ]
  },
  {
   "cell_type": "code",
   "execution_count": 47,
   "metadata": {},
   "outputs": [
    {
     "name": "stdout",
     "output_type": "stream",
     "text": [
      "NB_accuracy:  0.8735177865612648\n",
      "LR_accuracy:  0.857707509881423\n",
      "RF_accuracy:  0.849802371541502\n",
      "SVM_accuracy:  0.857707509881423\n"
     ]
    }
   ],
   "source": [
    "print(\"NB_accuracy: \", accuracy_score(y_test, test_pred_nb))\n",
    "print(\"LR_accuracy: \", accuracy_score(y_test, test_pred_lr))\n",
    "print(\"RF_accuracy: \", accuracy_score(y_test, test_pred_rf))\n",
    "print(\"SVM_accuracy: \", accuracy_score(y_test, test_pred_svc))"
   ]
  },
  {
   "cell_type": "code",
   "execution_count": 48,
   "metadata": {
    "scrolled": true
   },
   "outputs": [
    {
     "name": "stdout",
     "output_type": "stream",
     "text": [
      "NB_F1:  0.8888888888888888\n",
      "LR_F1:  0.881578947368421\n",
      "RF_F1:  0.8716216216216216\n",
      "SVM_F1:  0.8838709677419355\n"
     ]
    }
   ],
   "source": [
    "print(\"NB_F1: \", f1_score(y_test, test_pred_nb))\n",
    "print(\"LR_F1: \", f1_score(y_test, test_pred_lr))\n",
    "print(\"RF_F1: \", f1_score(y_test, test_pred_rf))\n",
    "print(\"SVM_F1: \", f1_score(y_test, test_pred_svc))"
   ]
  },
  {
   "cell_type": "markdown",
   "metadata": {},
   "source": [
    "=> Chọn Navie Bayes"
   ]
  },
  {
   "cell_type": "markdown",
   "metadata": {},
   "source": [
    "#### 4. Predictions"
   ]
  },
  {
   "cell_type": "code",
   "execution_count": 49,
   "metadata": {},
   "outputs": [],
   "source": [
    "#create function prediction\n",
    "def function(x):\n",
    "    result = nb_model.predict(vect.transform(x))\n",
    "    return result"
   ]
  },
  {
   "cell_type": "code",
   "execution_count": 50,
   "metadata": {},
   "outputs": [],
   "source": [
    "df['sentiment'] = df[['content_fix']].apply(lambda x: function(x))"
   ]
  }
 ],
 "metadata": {
  "kernelspec": {
   "display_name": "Python 3",
   "language": "python",
   "name": "python3"
  },
  "language_info": {
   "codemirror_mode": {
    "name": "ipython",
    "version": 3
   },
   "file_extension": ".py",
   "mimetype": "text/x-python",
   "name": "python",
   "nbconvert_exporter": "python",
   "pygments_lexer": "ipython3",
   "version": "3.8.5"
  },
  "toc": {
   "base_numbering": 1,
   "nav_menu": {},
   "number_sections": true,
   "sideBar": true,
   "skip_h1_title": false,
   "title_cell": "Table of Contents",
   "title_sidebar": "Contents",
   "toc_cell": false,
   "toc_position": {},
   "toc_section_display": true,
   "toc_window_display": false
  }
 },
 "nbformat": 4,
 "nbformat_minor": 4
}
